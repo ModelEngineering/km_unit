{
 "cells": [
  {
   "cell_type": "markdown",
   "metadata": {},
   "source": [
    "# Model Testing\n",
    "\n",
    "This notebook introduces basic concepts in testing simulation models. There are two parts organized as 15 min of group lecture and 45 minutes of break out.\n",
    "\n",
    "1. Testing basics\n",
    "  - Lecture\n",
    "      - Motivtion\n",
    "      - What is a test and why test\n",
    "      - Setting up tests in a Jupyter Notebook\n",
    "  - Breakout: Set up tests for virus example\n",
    "1. Writing tests\n",
    "  - Lecture\n",
    "    - Smoke test\n",
    "    - One off test\n",
    "    - Boundary test\n",
    "    - Relative tests\n",
    "  - Breakout: Write one of each type of tests for the virus model\n"
   ]
  },
  {
   "cell_type": "code",
   "execution_count": 1,
   "metadata": {},
   "outputs": [
    {
     "data": {
      "text/plain": [
       "['/home/ubuntu/Model-Testing',\n",
       " '/home/ubuntu/Model-Testing/mt/lib/python3.6/site-packages/teUtils-0.85-py3.6.egg',\n",
       " '',\n",
       " '/home/ubuntu/Model-Testing/mt/lib/python3.6/site-packages',\n",
       " '/home/ubuntu/Model-Testing/mt/lib/python3.6/site-packages/lmfit-1.0.1-py3.6.egg',\n",
       " '/home/ubuntu/Model-Testing/mt/lib/python3.6/site-packages/tabulate-0.8.7-py3.6.egg',\n",
       " '/home/ubuntu/Model-Testing/mt/lib/python3.6/site-packages/asteval-0.9.18-py3.6.egg',\n",
       " '/home/ubuntu/Model-Testing/mt/lib/python3.6/site-packages/future-0.18.2-py3.6.egg',\n",
       " '/home/ubuntu/Model-Testing/mt/lib/python3.6/site-packages/IPython/extensions',\n",
       " '/home/ubuntu/Model-Testing/mt/lib/python3.6/site-packages/tesbml',\n",
       " '/home/ubuntu/miniconda3/lib/python36.zip',\n",
       " '/home/ubuntu/miniconda3/lib/python3.6',\n",
       " '/home/ubuntu/miniconda3/lib/python3.6/lib-dynload',\n",
       " '/home/ubuntu/miniconda3/lib/python3.6/site-packages',\n",
       " '/home/ubuntu/Model-Testing/mt/lib/python3.6/site-packages/IPython/extensions',\n",
       " '/home/ubuntu/.ipython']"
      ]
     },
     "execution_count": 1,
     "metadata": {},
     "output_type": "execute_result"
    }
   ],
   "source": [
    "import sys\n",
    "sys.path"
   ]
  },
  {
   "cell_type": "code",
   "execution_count": 2,
   "metadata": {},
   "outputs": [
    {
     "ename": "ModuleNotFoundError",
     "evalue": "No module named 'uncertainties'",
     "output_type": "error",
     "traceback": [
      "\u001b[0;31m--------------------------------------------------------------\u001b[0m",
      "\u001b[0;31mModuleNotFoundError\u001b[0m          Traceback (most recent call last)",
      "\u001b[0;32m~/Model-Testing/mt/lib/python3.6/site-packages/teUtils-0.85-py3.6.egg/teUtils/__init__.py\u001b[0m in \u001b[0;36m<module>\u001b[0;34m\u001b[0m\n\u001b[1;32m     50\u001b[0m     \u001b[0;32mfrom\u001b[0m \u001b[0;34m.\u001b[0m \u001b[0;32mimport\u001b[0m \u001b[0mscanning\u001b[0m\u001b[0;34m\u001b[0m\u001b[0m\n\u001b[0;32m---> 51\u001b[0;31m     \u001b[0;32mfrom\u001b[0m \u001b[0;34m.\u001b[0m \u001b[0;32mimport\u001b[0m \u001b[0mmodel_fitter\u001b[0m\u001b[0;34m\u001b[0m\u001b[0m\n\u001b[0m\u001b[1;32m     52\u001b[0m \u001b[0;32mexcept\u001b[0m\u001b[0;34m:\u001b[0m\u001b[0;34m\u001b[0m\u001b[0m\n",
      "\u001b[0;32m~/Model-Testing/mt/lib/python3.6/site-packages/teUtils-0.85-py3.6.egg/teUtils/model_fitter.py\u001b[0m in \u001b[0;36m<module>\u001b[0;34m\u001b[0m\n\u001b[1;32m     34\u001b[0m \u001b[0;34m\u001b[0m\u001b[0m\n\u001b[0;32m---> 35\u001b[0;31m \u001b[0;32mimport\u001b[0m \u001b[0mlmfit\u001b[0m\u001b[0;34m;\u001b[0m\u001b[0;34m\u001b[0m\u001b[0m\n\u001b[0m\u001b[1;32m     36\u001b[0m \u001b[0;32mimport\u001b[0m \u001b[0mnumpy\u001b[0m \u001b[0;32mas\u001b[0m \u001b[0mnp\u001b[0m\u001b[0;34m\u001b[0m\u001b[0m\n",
      "\u001b[0;32m~/Model-Testing/mt/lib/python3.6/site-packages/lmfit-1.0.1-py3.6.egg/lmfit/__init__.py\u001b[0m in \u001b[0;36m<module>\u001b[0;34m\u001b[0m\n\u001b[1;32m     38\u001b[0m \u001b[0;34m\u001b[0m\u001b[0m\n\u001b[0;32m---> 39\u001b[0;31m \u001b[0;32mfrom\u001b[0m \u001b[0;34m.\u001b[0m\u001b[0mconfidence\u001b[0m \u001b[0;32mimport\u001b[0m \u001b[0mconf_interval\u001b[0m\u001b[0;34m,\u001b[0m \u001b[0mconf_interval2d\u001b[0m\u001b[0;34m\u001b[0m\u001b[0m\n\u001b[0m\u001b[1;32m     40\u001b[0m \u001b[0;32mfrom\u001b[0m \u001b[0;34m.\u001b[0m\u001b[0mminimizer\u001b[0m \u001b[0;32mimport\u001b[0m \u001b[0mMinimizer\u001b[0m\u001b[0;34m,\u001b[0m \u001b[0mMinimizerException\u001b[0m\u001b[0;34m,\u001b[0m \u001b[0mminimize\u001b[0m\u001b[0;34m\u001b[0m\u001b[0m\n",
      "\u001b[0;32m~/Model-Testing/mt/lib/python3.6/site-packages/lmfit-1.0.1-py3.6.egg/lmfit/confidence.py\u001b[0m in \u001b[0;36m<module>\u001b[0;34m\u001b[0m\n\u001b[1;32m      9\u001b[0m \u001b[0;34m\u001b[0m\u001b[0m\n\u001b[0;32m---> 10\u001b[0;31m \u001b[0;32mfrom\u001b[0m \u001b[0;34m.\u001b[0m\u001b[0mminimizer\u001b[0m \u001b[0;32mimport\u001b[0m \u001b[0mMinimizerException\u001b[0m\u001b[0;34m\u001b[0m\u001b[0m\n\u001b[0m\u001b[1;32m     11\u001b[0m \u001b[0;34m\u001b[0m\u001b[0m\n",
      "\u001b[0;32m~/Model-Testing/mt/lib/python3.6/site-packages/lmfit-1.0.1-py3.6.egg/lmfit/minimizer.py\u001b[0m in \u001b[0;36m<module>\u001b[0;34m\u001b[0m\n\u001b[1;32m     38\u001b[0m \u001b[0;32mfrom\u001b[0m \u001b[0mscipy\u001b[0m\u001b[0;34m.\u001b[0m\u001b[0mversion\u001b[0m \u001b[0;32mimport\u001b[0m \u001b[0mversion\u001b[0m \u001b[0;32mas\u001b[0m \u001b[0mscipy_version\u001b[0m\u001b[0;34m\u001b[0m\u001b[0m\n\u001b[0;32m---> 39\u001b[0;31m \u001b[0;32mimport\u001b[0m \u001b[0muncertainties\u001b[0m\u001b[0;34m\u001b[0m\u001b[0m\n\u001b[0m\u001b[1;32m     40\u001b[0m \u001b[0;34m\u001b[0m\u001b[0m\n",
      "\u001b[0;31mModuleNotFoundError\u001b[0m: No module named 'uncertainties'",
      "\nDuring handling of the above exception, another exception occurred:\n",
      "\u001b[0;31mModuleNotFoundError\u001b[0m          Traceback (most recent call last)",
      "\u001b[0;32m<ipython-input-2-d090b95d1c35>\u001b[0m in \u001b[0;36m<module>\u001b[0;34m\u001b[0m\n\u001b[1;32m      1\u001b[0m \u001b[0;32mimport\u001b[0m \u001b[0mtellurium\u001b[0m \u001b[0;32mas\u001b[0m \u001b[0mte\u001b[0m\u001b[0;34m\u001b[0m\u001b[0m\n\u001b[0;32m----> 2\u001b[0;31m \u001b[0;32mfrom\u001b[0m \u001b[0mteUtils\u001b[0m\u001b[0;34m.\u001b[0m\u001b[0mnamed_timeseries\u001b[0m \u001b[0;32mimport\u001b[0m \u001b[0mNamedTimeseries\u001b[0m\u001b[0;34m,\u001b[0m \u001b[0mTIME\u001b[0m\u001b[0;34m\u001b[0m\u001b[0m\n\u001b[0m",
      "\u001b[0;32m~/Model-Testing/mt/lib/python3.6/site-packages/teUtils-0.85-py3.6.egg/teUtils/__init__.py\u001b[0m in \u001b[0;36m<module>\u001b[0;34m\u001b[0m\n\u001b[1;32m     56\u001b[0m     \u001b[0;32mfrom\u001b[0m \u001b[0mteUtils\u001b[0m \u001b[0;32mimport\u001b[0m \u001b[0mbuildNetworks\u001b[0m\u001b[0;34m\u001b[0m\u001b[0m\n\u001b[1;32m     57\u001b[0m     \u001b[0;32mfrom\u001b[0m \u001b[0mteUtils\u001b[0m \u001b[0;32mimport\u001b[0m \u001b[0mscanning\u001b[0m\u001b[0;34m\u001b[0m\u001b[0m\n\u001b[0;32m---> 58\u001b[0;31m     \u001b[0;32mfrom\u001b[0m \u001b[0mteUtils\u001b[0m \u001b[0;32mimport\u001b[0m \u001b[0mmodel_fitter\u001b[0m\u001b[0;34m\u001b[0m\u001b[0m\n\u001b[0m",
      "\u001b[0;32m~/Model-Testing/mt/lib/python3.6/site-packages/teUtils-0.85-py3.6.egg/teUtils/model_fitter.py\u001b[0m in \u001b[0;36m<module>\u001b[0;34m\u001b[0m\n\u001b[1;32m     33\u001b[0m \u001b[0;32mfrom\u001b[0m \u001b[0mteUtils\u001b[0m\u001b[0;34m.\u001b[0m\u001b[0mnamed_timeseries\u001b[0m \u001b[0;32mimport\u001b[0m \u001b[0mNamedTimeseries\u001b[0m\u001b[0;34m,\u001b[0m \u001b[0mTIME\u001b[0m\u001b[0;34m,\u001b[0m \u001b[0mmkNamedTimeseries\u001b[0m\u001b[0;34m\u001b[0m\u001b[0m\n\u001b[1;32m     34\u001b[0m \u001b[0;34m\u001b[0m\u001b[0m\n\u001b[0;32m---> 35\u001b[0;31m \u001b[0;32mimport\u001b[0m \u001b[0mlmfit\u001b[0m\u001b[0;34m;\u001b[0m\u001b[0;34m\u001b[0m\u001b[0m\n\u001b[0m\u001b[1;32m     36\u001b[0m \u001b[0;32mimport\u001b[0m \u001b[0mnumpy\u001b[0m \u001b[0;32mas\u001b[0m \u001b[0mnp\u001b[0m\u001b[0;34m\u001b[0m\u001b[0m\n\u001b[1;32m     37\u001b[0m \u001b[0;32mimport\u001b[0m \u001b[0mroadrunner\u001b[0m\u001b[0;34m\u001b[0m\u001b[0m\n",
      "\u001b[0;32m~/Model-Testing/mt/lib/python3.6/site-packages/lmfit-1.0.1-py3.6.egg/lmfit/__init__.py\u001b[0m in \u001b[0;36m<module>\u001b[0;34m\u001b[0m\n\u001b[1;32m     37\u001b[0m \u001b[0;32mfrom\u001b[0m \u001b[0masteval\u001b[0m \u001b[0;32mimport\u001b[0m \u001b[0mInterpreter\u001b[0m\u001b[0;34m\u001b[0m\u001b[0m\n\u001b[1;32m     38\u001b[0m \u001b[0;34m\u001b[0m\u001b[0m\n\u001b[0;32m---> 39\u001b[0;31m \u001b[0;32mfrom\u001b[0m \u001b[0;34m.\u001b[0m\u001b[0mconfidence\u001b[0m \u001b[0;32mimport\u001b[0m \u001b[0mconf_interval\u001b[0m\u001b[0;34m,\u001b[0m \u001b[0mconf_interval2d\u001b[0m\u001b[0;34m\u001b[0m\u001b[0m\n\u001b[0m\u001b[1;32m     40\u001b[0m \u001b[0;32mfrom\u001b[0m \u001b[0;34m.\u001b[0m\u001b[0mminimizer\u001b[0m \u001b[0;32mimport\u001b[0m \u001b[0mMinimizer\u001b[0m\u001b[0;34m,\u001b[0m \u001b[0mMinimizerException\u001b[0m\u001b[0;34m,\u001b[0m \u001b[0mminimize\u001b[0m\u001b[0;34m\u001b[0m\u001b[0m\n\u001b[1;32m     41\u001b[0m \u001b[0;32mfrom\u001b[0m \u001b[0;34m.\u001b[0m\u001b[0mparameter\u001b[0m \u001b[0;32mimport\u001b[0m \u001b[0mParameter\u001b[0m\u001b[0;34m,\u001b[0m \u001b[0mParameters\u001b[0m\u001b[0;34m\u001b[0m\u001b[0m\n",
      "\u001b[0;32m~/Model-Testing/mt/lib/python3.6/site-packages/lmfit-1.0.1-py3.6.egg/lmfit/confidence.py\u001b[0m in \u001b[0;36m<module>\u001b[0;34m\u001b[0m\n\u001b[1;32m      8\u001b[0m \u001b[0;32mfrom\u001b[0m \u001b[0mscipy\u001b[0m\u001b[0;34m.\u001b[0m\u001b[0mstats\u001b[0m \u001b[0;32mimport\u001b[0m \u001b[0mf\u001b[0m\u001b[0;34m\u001b[0m\u001b[0m\n\u001b[1;32m      9\u001b[0m \u001b[0;34m\u001b[0m\u001b[0m\n\u001b[0;32m---> 10\u001b[0;31m \u001b[0;32mfrom\u001b[0m \u001b[0;34m.\u001b[0m\u001b[0mminimizer\u001b[0m \u001b[0;32mimport\u001b[0m \u001b[0mMinimizerException\u001b[0m\u001b[0;34m\u001b[0m\u001b[0m\n\u001b[0m\u001b[1;32m     11\u001b[0m \u001b[0;34m\u001b[0m\u001b[0m\n\u001b[1;32m     12\u001b[0m \u001b[0mCONF_ERR_GEN\u001b[0m \u001b[0;34m=\u001b[0m \u001b[0;34m'Cannot determine Confidence Intervals'\u001b[0m\u001b[0;34m\u001b[0m\u001b[0m\n",
      "\u001b[0;32m~/Model-Testing/mt/lib/python3.6/site-packages/lmfit-1.0.1-py3.6.egg/lmfit/minimizer.py\u001b[0m in \u001b[0;36m<module>\u001b[0;34m\u001b[0m\n\u001b[1;32m     37\u001b[0m \u001b[0;32mfrom\u001b[0m \u001b[0mscipy\u001b[0m\u001b[0;34m.\u001b[0m\u001b[0mstats\u001b[0m \u001b[0;32mimport\u001b[0m \u001b[0mnorm\u001b[0m \u001b[0;32mas\u001b[0m \u001b[0mnorm_dist\u001b[0m\u001b[0;34m\u001b[0m\u001b[0m\n\u001b[1;32m     38\u001b[0m \u001b[0;32mfrom\u001b[0m \u001b[0mscipy\u001b[0m\u001b[0;34m.\u001b[0m\u001b[0mversion\u001b[0m \u001b[0;32mimport\u001b[0m \u001b[0mversion\u001b[0m \u001b[0;32mas\u001b[0m \u001b[0mscipy_version\u001b[0m\u001b[0;34m\u001b[0m\u001b[0m\n\u001b[0;32m---> 39\u001b[0;31m \u001b[0;32mimport\u001b[0m \u001b[0muncertainties\u001b[0m\u001b[0;34m\u001b[0m\u001b[0m\n\u001b[0m\u001b[1;32m     40\u001b[0m \u001b[0;34m\u001b[0m\u001b[0m\n\u001b[1;32m     41\u001b[0m \u001b[0;32mfrom\u001b[0m \u001b[0;34m.\u001b[0m\u001b[0m_ampgo\u001b[0m \u001b[0;32mimport\u001b[0m \u001b[0mampgo\u001b[0m\u001b[0;34m\u001b[0m\u001b[0m\n",
      "\u001b[0;31mModuleNotFoundError\u001b[0m: No module named 'uncertainties'"
     ]
    }
   ],
   "source": [
    "import tellurium as te\n",
    "from teUtils.named_timeseries import NamedTimeseries, TIME"
   ]
  },
  {
   "cell_type": "markdown",
   "metadata": {},
   "source": [
    "## Testing Basics"
   ]
  },
  {
   "cell_type": "markdown",
   "metadata": {},
   "source": [
    "### Motivation and Background"
   ]
  },
  {
   "cell_type": "markdown",
   "metadata": {},
   "source": [
    "Testing is the process by which you exercise your code to determine if it performs as expected. The code you are testing is referred to as the code under test.\n",
    "\n",
    "There are two parts to writing tests.\n",
    "1. invoking the code under test so that it is exercised in a particular way;\n",
    "1. evaluating the results of executing code under test to determine if it behaved as expected.\n",
    "\n",
    "The collection of tests performed are referred to as the test cases. The fraction of the code under test that is executed as a result of running the test cases is referred to as test coverage."
   ]
  },
  {
   "cell_type": "markdown",
   "metadata": {},
   "source": [
    "### Testing in a Jupyter Notebook"
   ]
  },
  {
   "cell_type": "code",
   "execution_count": 2,
   "metadata": {},
   "outputs": [],
   "source": [
    "# Common data container\n",
    "class CommonData():\n",
    "    # Comtainer for common data\n",
    "    pass\n",
    "global common"
   ]
  },
  {
   "cell_type": "code",
   "execution_count": 3,
   "metadata": {},
   "outputs": [],
   "source": [
    "# Common codes used by tests\n",
    "def setUp():\n",
    "    global common\n",
    "    # Initialize common data\n",
    "    common = CommonData()\n",
    "    # Run the simulation\n",
    "    model = '''\n",
    "    model example1\n",
    "      S1 -> S2; k1*S1\n",
    "      S1 = 10\n",
    "      S2 = 0\n",
    "      k1 = 0.1\n",
    "    end\n",
    "    '''\n",
    "    # Collect results of simulation run\n",
    "    common.rr = te.loada(model)\n",
    "    common.data = common.rr.simulate()"
   ]
  },
  {
   "cell_type": "code",
   "execution_count": 4,
   "metadata": {},
   "outputs": [],
   "source": [
    "# Tests\n",
    "def test1():\n",
    "    global common\n",
    "    setUp()\n",
    "    assert(len(common.data) > 0)\n",
    "def test2():\n",
    "    setUp()\n",
    "    pass"
   ]
  },
  {
   "cell_type": "code",
   "execution_count": 5,
   "metadata": {},
   "outputs": [
    {
     "name": "stdout",
     "output_type": "stream",
     "text": [
      "OK.\n"
     ]
    }
   ],
   "source": [
    "# Test runner\n",
    "for test in [test1, test2]:\n",
    "    test()\n",
    "print(\"OK.\")"
   ]
  },
  {
   "cell_type": "markdown",
   "metadata": {},
   "source": [
    "### Testing A More Sophisticated Model"
   ]
  },
  {
   "cell_type": "code",
   "execution_count": 6,
   "metadata": {},
   "outputs": [],
   "source": [
    "ANTIMONY_MODEL = \"\"\" \n",
    "# Reactions   \n",
    "    J1: S1 -> S2; k1*S1\n",
    "    J2: S2 -> S3; k2*S2\n",
    "    J3: S3 -> S4; k3*S3\n",
    "    J4: S4 -> S5; k4*S4\n",
    "    J5: S5 -> S6; k5*S5;\n",
    "# Species initializations     \n",
    "    S1 = 10;\n",
    "    k1 = 1; k2 = 2; k3 = 3; k4 = 4; k5 = 5;\n",
    "    S1 = 0; S2 = 0; S3 = 0; S4 = 0; S5 = 0; S6 = 0;\n",
    "\"\"\""
   ]
  },
  {
   "cell_type": "code",
   "execution_count": 14,
   "metadata": {},
   "outputs": [],
   "source": [
    "# Run the simulation to be tested\n",
    "def setUp():\n",
    "    global common\n",
    "    # Initialize common data\n",
    "    common = CommonData()\n",
    "    # Run the simulation\n",
    "    model = '''\n",
    "        # Reactions   \n",
    "        J1: S1 -> S2; k1*S1\n",
    "        J2: S2 -> S3; k2*S2\n",
    "        J3: S3 -> S4; k3*S3\n",
    "        J4: S4 -> S5; k4*S4\n",
    "        J5: S5 -> S6; k5*S5;\n",
    "        # Species initializations     \n",
    "        S1 = 10;\n",
    "        k1 = 1; k2 = 2; k3 = 3; k4 = 4; k5 = 5;\n",
    "        S1 = 10; S2 = 0; S3 = 0; S4 = 0; S5 = 0; S6 = 0;\n",
    "        '''\n",
    "    # Collect results of simulation run\n",
    "    common.model = model\n",
    "    common.rr = te.loada(model)\n",
    "    common.data = common.rr.simulate()"
   ]
  },
  {
   "cell_type": "code",
   "execution_count": 15,
   "metadata": {},
   "outputs": [
    {
     "name": "stdout",
     "output_type": "stream",
     "text": [
      "OK.\n"
     ]
    }
   ],
   "source": [
    "# Test runner\n",
    "for test in [test1, test2]:\n",
    "    test()\n",
    "print(\"OK.\")"
   ]
  },
  {
   "cell_type": "markdown",
   "metadata": {},
   "source": [
    "### Breakout\n",
    "You will be writing tests for ANTIMONY_MODEL\n",
    "1. Create a new Jupyter Notebook\n",
    "1. Create cells for:\n",
    "   1. Common data container\n",
    "   1. Simulation runner for the virus example\n",
    "   1. Test that checks that data are returned from the simulation.\n",
    "1. Create a new test that verifies the columns in the simulation results.\n",
    "   1. Test that the beginning value of S1 is near 10 and its ending value of S1 is near 0.\n",
    "   1. Test that the beginning value of S6 is near 0 and its ending value is near 10."
   ]
  },
  {
   "cell_type": "markdown",
   "metadata": {},
   "source": [
    "## Writing Kinetics Tests"
   ]
  },
  {
   "cell_type": "markdown",
   "metadata": {},
   "source": [
    "Test cases can be of several types. Below are listed some common classifications of test cases.\n",
    "- Smoke test. This is an invocation of the code under test to see if there is an unexpected exception. It's useful as a starting point, but this doesn't tell you anything about the correctness of the results of a computation.\n",
    "- One-shot test. In this case, you call the code under test with arguments for which you know the expected result.\n",
    "- Edge test. The code under test is invoked with arguments that should cause an exception, and you evaluate if the expected exception occurrs.\n",
    "- Pattern test - Based on your knowledge of the calculation (not implementation) of the code under test, you construct a suite of test cases for which the results are known or there are known patterns in these results that are used to evaluate the results returned.\n",
    "\n",
    "Another principle of testing is to limit what is done in a single test case. Generally, a test case should focus on one use of one function. Sometimes, this is a challenge since the function being tested may call other functions that you are testing. This means that bugs in the called functions may cause failures in the tests of the calling functions. Often, you sort this out by knowing the structure of the code and focusing first on failures in lower level tests. In other situations, you may use more advanced techniques called mocking. A discussion of mocking is beyond the scope of this course"
   ]
  }
 ],
 "metadata": {
  "kernelspec": {
   "display_name": "Python 3",
   "language": "python",
   "name": "python3"
  },
  "language_info": {
   "codemirror_mode": {
    "name": "ipython",
    "version": 3
   },
   "file_extension": ".py",
   "mimetype": "text/x-python",
   "name": "python",
   "nbconvert_exporter": "python",
   "pygments_lexer": "ipython3",
   "version": "3.6.4"
  }
 },
 "nbformat": 4,
 "nbformat_minor": 4
}
